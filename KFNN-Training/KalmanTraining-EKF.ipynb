{
 "cells": [
  {
   "attachments": {},
   "cell_type": "markdown",
   "metadata": {
    "id": "Mw90BPg-3KAD"
   },
   "source": [
    "## Bibliotecas Utilizadas\n"
   ]
  },
  {
   "cell_type": "code",
   "execution_count": 7,
   "metadata": {
    "executionInfo": {
     "elapsed": 6,
     "status": "ok",
     "timestamp": 1685398410683,
     "user": {
      "displayName": "Gustavo de Macena Barreto",
      "userId": "13320875132263125020"
     },
     "user_tz": 180
    },
    "id": "Idi9659l2_Wm"
   },
   "outputs": [],
   "source": [
    "import numpy as np\n",
    "from numpy.linalg import inv\n",
    "import matplotlib.pyplot as plt"
   ]
  },
  {
   "attachments": {},
   "cell_type": "markdown",
   "metadata": {
    "id": "jlUAHalC3VyW"
   },
   "source": [
    "## Definições do Sistema\n"
   ]
  },
  {
   "cell_type": "code",
   "execution_count": 17,
   "metadata": {
    "id": "vl1q9n-n3JjQ"
   },
   "outputs": [],
   "source": [
    "'''definicao sigmoid_f'''\n",
    "def sigmoid_f(x):\n",
    "    return 1/(1+np.exp(-x))\n",
    "\n",
    "def hs_(W,X):\n",
    "    dot = np.matmul(W,X)\n",
    "    return sigmoid_f(dot)\n",
    "    \n",
    "\n",
    "def Hs(W,X):\n",
    "    out = np.zeros((3,))\n",
    "    v = np.matmul(W,X)\n",
    "    '''Implementacao com sigmoid_f'''\n",
    "    y = sigmoid_f(v)\n",
    "    aux = y*(1-y)\n",
    "    \n",
    "    out[0] = X[0] * aux\n",
    "    out[1] = X[1] * aux\n",
    "    out[2] = X[2] * aux\n",
    "    return out"
   ]
  },
  {
   "cell_type": "code",
   "execution_count": 29,
   "metadata": {
    "colab": {
     "base_uri": "https://localhost:8080/",
     "height": 586
    },
    "executionInfo": {
     "elapsed": 1998,
     "status": "ok",
     "timestamp": 1684953799191,
     "user": {
      "displayName": "Gustavo de Macena Barreto",
      "userId": "13320875132263125020"
     },
     "user_tz": 180
    },
    "id": "2nZdbVkk3emS",
    "outputId": "ee53296c-3cd4-4405-fe81-47e1a904851b"
   },
   "outputs": [
    {
     "name": "stdout",
     "output_type": "stream",
     "text": [
      "error\n",
      " [[-0.00191032]\n",
      " [-0.00155961]\n",
      " [ 0.00127311]\n",
      " [ 0.0015595 ]]\n",
      "h\n",
      " [[0.00191032]\n",
      " [0.00155961]\n",
      " [0.99872689]\n",
      " [0.9984405 ]]\n"
     ]
    },
    {
     "data": {
      "image/png": "[encoded data removed]",
      "text/plain": [
       "<Figure size 640x480 with 1 Axes>"
      ]
     },
     "metadata": {},
     "output_type": "display_data"
    }
   ],
   "source": [
    "\n",
    "'''Declaracao de Entrada e Saida Esperada'''\n",
    "X = np.array([[0, 0, 1],\n",
    "              [0, 1, 1],\n",
    "              [1, 0, 1],\n",
    "              [1, 1, 1]])\n",
    "\n",
    "\n",
    "D = np.array([[0, 0, 0, 1]]).T #AND\n",
    "# D = np.array([[0, 1, 1, 1]]).T #OR\n",
    "# D = np.array([[0, 0, 1, 1]]).T #X \n",
    "\n",
    "'''XOR - nao é possivel treinar com uma camada'''\n",
    "# D = np.array([[0, 1, 1, 0]]).T #XOR\n",
    "\n",
    "\n",
    "'''Initial Conditions'''\n",
    "W = 2*np.random.random((1,3)) - 1 \n",
    "N = 1000\n",
    "cost = np.zeros((N,))\n",
    "t = np.arange(N)\n",
    "\n",
    "\n",
    "ns = W.shape[1]\n",
    "nd = D.shape[0]\n",
    "s = W.T\n",
    "P = 0.01* np.eye(ns)\n",
    "R = 1.0 * np.eye(nd)\n",
    "Q = 1.0 * np.eye(ns)\n",
    "\n",
    "H = np.zeros((nd, ns))\n",
    "h = np.zeros((nd, 1))\n",
    "for i in range(N):\n",
    "    '''Predict'''\n",
    "    sp = s\n",
    "    Pp = P + Q\n",
    "    \n",
    "    '''Update'''\n",
    "    z = D \n",
    "\n",
    "    for k in range(nd):\n",
    "        H[k,:] =  Hs(s.T,X[k,:].reshape(ns,1))\n",
    "        h[k,:] = hs_(s.T,X[k,:].reshape(ns,1))\n",
    "        # print(\"H = \", H[k,:])\n",
    "        # print(\"h = \", h[k,:])\n",
    "        \n",
    "    error = z - h \n",
    "    A = np.matmul(H, np.matmul(P,H.T)) + R\n",
    "\n",
    "    '''Calculo Ganho de Kalman(K)'''\n",
    "    inv_A = inv(A)\n",
    "    K = np.matmul(Pp, np.matmul(H.T, inv_A))\n",
    "\n",
    "    s = sp + np.matmul(K, error)\n",
    "    P = np.matmul(np.eye(ns) - np.matmul(K,H), Pp)\n",
    "    cost[i] = np.sum(np.abs(error))\n",
    "print(\"error\\n\",error)\n",
    "print('h\\n', h)\n",
    "plt.figure()\n",
    "plt.plot(t, cost)\n",
    "plt.show()"
   ]
  },
  {
   "cell_type": "code",
   "execution_count": null,
   "metadata": {
    "id": "t-83AzMX3uQS"
   },
   "outputs": [],
   "source": []
  }
 ],
 "metadata": {
  "colab": {
   "authorship_tag": "ABX9TyM8D9Jl/EM3jgEtDzVM8sYA",
   "provenance": []
  },
  "kernelspec": {
   "display_name": "Python 3 (ipykernel)",
   "language": "python",
   "name": "python3"
  },
  "language_info": {
   "codemirror_mode": {
    "name": "ipython",
    "version": 3
   },
   "file_extension": ".py",
   "mimetype": "text/x-python",
   "name": "python",
   "nbconvert_exporter": "python",
   "pygments_lexer": "ipython3",
   "version": "3.10.6"
  }
 },
 "nbformat": 4,
 "nbformat_minor": 1
}
