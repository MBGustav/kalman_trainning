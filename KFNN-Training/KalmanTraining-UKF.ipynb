{
 "cells": [
  {
   "attachments": {},
   "cell_type": "markdown",
   "metadata": {
    "id": "Mw90BPg-3KAD"
   },
   "source": [
    "## Bibliotecas Utilizadas\n"
   ]
  },
  {
   "cell_type": "code",
   "execution_count": 2,
   "metadata": {
    "id": "Idi9659l2_Wm"
   },
   "outputs": [],
   "source": [
    "import numpy as np\n",
    "from numpy.linalg import inv\n",
    "from scipy.linalg import cholesky\n",
    "import matplotlib.pyplot as plt"
   ]
  },
  {
   "attachments": {},
   "cell_type": "markdown",
   "metadata": {
    "id": "jlUAHalC3VyW"
   },
   "source": [
    "## Definições do Sistema"
   ]
  },
  {
   "cell_type": "code",
   "execution_count": 5,
   "metadata": {
    "id": "vl1q9n-n3JjQ"
   },
   "outputs": [],
   "source": [
    "'''Definição da sigmoid_f'''\n",
    "def sigmoid_f(x):\n",
    "    return 1/(1+np.exp(-x))\n",
    "\n",
    "\n",
    "'''Definicao da Transicao de Estados'''\n",
    "def fs_(sp): \n",
    "    return sp\n",
    "\n",
    "\n",
    "'''Definicao da Matriz de Medidas'''\n",
    "def hs_(W,X):\n",
    "    dot = np.dot(W, X)\n",
    "    D = sigmoid_f(dot)\n",
    "    return D\n"
   ]
  },
  {
   "attachments": {},
   "cell_type": "markdown",
   "metadata": {
    "id": "oamoe6DwlHu_"
   },
   "source": [
    "## Algoritmos usados pelo Filtro de  Kalman"
   ]
  },
  {
   "cell_type": "code",
   "execution_count": 6,
   "metadata": {
    "id": "eCS5zb17k5Dx"
   },
   "outputs": [],
   "source": [
    "def SigmaPoints(xm, P, kappa, kmax):\n",
    "    n = xm.shape[0] # Considerando vetor-coluna!\n",
    "    Xi = np.zeros((n,kmax))\n",
    "    Ws = np.zeros((kmax,1))\n",
    "\n",
    "    # Decomp. cholesky: U x U.T = (n+kp)*P\n",
    "    U = cholesky((n+kappa)*P)\n",
    "    Ws[0] = kappa / (n+kappa)\n",
    "    Xi[:,0] = xm.flatten()\n",
    "    for k in range(n):\n",
    "        Xi[:, k+1] = xm.flatten() + U[k, :].T\n",
    "        Ws[k+1] = 1 / (2*(n+kappa))\n",
    "\n",
    "    for k in range(n): \n",
    "        Xi[:,n+k+1] = xm.flatten() - U[k, :].T\n",
    "        Ws[n+k+1] = 1 / (2*(n+kappa))\n",
    "\n",
    "    return Xi, Ws\n",
    "\n",
    "def UT(Xi, W, noiseCov): \n",
    "    n, kmax = Xi.shape\n",
    "    xm = np.zeros((n,1))\n",
    "    xcov = np.zeros((n,n))\n",
    "\n",
    "    '''Acumulacao do vetor xm'''\n",
    "    for k in range(kmax):\n",
    "        xm += W[k] * Xi[:, k].reshape((n,1))\n",
    "\n",
    "    '''Acumulacao da matriz da Cov. de Medidas'''\n",
    "    for k in range(kmax): \n",
    "        vec = (Xi[:,k].reshape((n,1)) - xm)\n",
    "        xcov += W[k] * np.matmul(vec , vec.T)  \n",
    "    xcov += noiseCov\n",
    "    \n",
    "    return xm, xcov"
   ]
  },
  {
   "cell_type": "code",
   "execution_count": 48,
   "metadata": {
    "colab": {
     "base_uri": "https://localhost:8080/",
     "height": 499
    },
    "executionInfo": {
     "elapsed": 2163,
     "status": "ok",
     "timestamp": 1684952881159,
     "user": {
      "displayName": "Gustavo de Macena Barreto",
      "userId": "13320875132263125020"
     },
     "user_tz": 180
    },
    "id": "2nZdbVkk3emS",
    "outputId": "8dd2baca-2cad-45e7-b360-8e761711a936"
   },
   "outputs": [
    {
     "data": {
      "image/png": "[encoded data removed]",
      "text/plain": [
       "<Figure size 640x480 with 1 Axes>"
      ]
     },
     "metadata": {},
     "output_type": "display_data"
    }
   ],
   "source": [
    "'''Declaracao de Entrada e Saida Esperada'''\n",
    "X = np.array([[0, 0, 1],\n",
    "              [0, 1, 1],\n",
    "              [1, 0, 1],\n",
    "              [1, 1, 1]])\n",
    "\n",
    "# D = np.array([[0, 0, 0, 1]]).T #AND\n",
    "# D = np.array([[0, 1, 1, 1]]).T #OR\n",
    "# D = np.array([[0, 0, 1, 1]]).T #X \n",
    "\n",
    "'''XOR - nao é possivel treinar com uma camada'''\n",
    "# D = np.array([[0, 1, 1, 0]]).T #XOR\n",
    "\n",
    "\n",
    "'''Condicoes Iniciais'''\n",
    "W = 2*np.random.random((1,3)) - 1 \n",
    "N = 1000\n",
    "cost = np.zeros((N,))\n",
    "t = np.arange(N)\n",
    "ns = W.shape[1]\n",
    "nd = D.shape[0]\n",
    "z = D\n",
    "s = W.T\n",
    "cost = np.zeros((N))\n",
    "t = np.arange(N)\n",
    "\n",
    "'''Modelagem do Sistema'''\n",
    "kappa = 0\n",
    "kmax = 2*ns+1\n",
    "P = 0.01* np.eye(ns)\n",
    "R = 1.0 * np.eye(nd)\n",
    "Q = 1.0 * np.eye(ns)\n",
    "\n",
    "for i in range(N):    \n",
    "    '''Processo de Sigma Points'''\n",
    "    Si, Ws = SigmaPoints(s, P, kappa, kmax)\n",
    "    fSi = np.zeros((ns,kmax))\n",
    "\n",
    "    '''Estado de Update'''\n",
    "    '''1. Propagacao em f(s)'''\n",
    "    for k in range(kmax):\n",
    "        fSi[:, k] = fs_(Si[:,k])\n",
    "\n",
    "    '''2. Propagacao em h(s)'''\n",
    "    hSi = np.zeros((nd,kmax))\n",
    "    h = np.zeros((nd,1))\n",
    "    for k in range(kmax):\n",
    "        for j in range(nd):\n",
    "            h[j, :] = hs_(Si[:, k], X[j, :])\n",
    "        hSi[:, k] = h.flatten()\n",
    "    \n",
    "    '''Transformacao Unscented - UT'''\n",
    "    sp, Pp = UT(fSi, Ws, Q)\n",
    "    zp, Pz = UT(hSi, Ws, R)\n",
    "\n",
    "    Psz = np.zeros((ns, nd))\n",
    "    for k in range(kmax):\n",
    "        v1 = (fSi[:, k].reshape((ns, 1)) - sp).reshape((ns,1))\n",
    "        v2 = (hSi[:, k].reshape((nd, 1)) - zp).reshape((nd,1))\n",
    "        Psz += Ws[k] * np.matmul(v1,v2.T)\n",
    "    \n",
    "    '''Estado de Correcao'''\n",
    "    error = z - zp\n",
    "    inv_Pz = inv(Pz)\n",
    "    K = np.matmul(Psz ,inv_Pz)\n",
    "    s = sp + np.matmul(K, error)\n",
    "    P = Pp - np.matmul(K, np.matmul(Pz,K.T))\n",
    "    cost[i] = np.sum(np.abs(error))\n",
    "\n",
    "plt.figure()\n",
    "plt.plot(t, cost)\n",
    "plt.show()"
   ]
  },
  {
   "attachments": {},
   "cell_type": "markdown",
   "metadata": {},
   "source": [
    "## Fase de Reconhecimento"
   ]
  },
  {
   "cell_type": "code",
   "execution_count": 46,
   "metadata": {
    "id": "t-83AzMX3uQS"
   },
   "outputs": [
    {
     "name": "stdout",
     "output_type": "stream",
     "text": [
      "Saida:\n",
      "[[2.94493315e-29]]\n",
      "[[3.48225363e-10]]\n",
      "[[2.23355331e-10]]\n",
      "[[1.]]\n",
      "error: \n",
      " [[-5.28804965e-21]\n",
      " [-5.14818065e-02]\n",
      " [-4.49660610e-02]\n",
      " [ 6.32958020e-02]]\n"
     ]
    }
   ],
   "source": [
    "print(\"Saida:\")\n",
    "for i in range(nd):\n",
    "    x = X[i,:].reshape((1,ns))\n",
    "    # v = np.matmul(s,x)\n",
    "    v = np.matmul(x,s)\n",
    "    print(sigmoid_f(v))\n",
    "print(\"error: \\n\", error)"
   ]
  }
 ],
 "metadata": {
  "colab": {
   "authorship_tag": "ABX9TyM06F5fAtGynzVZLhiArbtg",
   "provenance": []
  },
  "kernelspec": {
   "display_name": "Python 3 (ipykernel)",
   "language": "python",
   "name": "python3"
  },
  "language_info": {
   "codemirror_mode": {
    "name": "ipython",
    "version": 3
   },
   "file_extension": ".py",
   "mimetype": "text/x-python",
   "name": "python",
   "nbconvert_exporter": "python",
   "pygments_lexer": "ipython3",
   "version": "3.10.6"
  }
 },
 "nbformat": 4,
 "nbformat_minor": 1
}
